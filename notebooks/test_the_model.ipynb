{
 "cells": [
  {
   "cell_type": "markdown",
   "id": "b9a7c55f",
   "metadata": {},
   "source": [
    "# Test the Model & Visualize it \n",
    "Now the model is craeted an trained. So let's use it testwise. Idea would be to \n",
    "- be able to run it - since it works on the daily candle - on a daily base\n",
    "- store the outcome of the test in a table to be able to \n",
    "- visualize it"
   ]
  },
  {
   "cell_type": "code",
   "execution_count": 1,
   "id": "ae60f50f",
   "metadata": {},
   "outputs": [
    {
     "name": "stdout",
     "output_type": "stream",
     "text": [
      "[NbConvertApp] Converting notebook test_the_model.ipynb to script\n",
      "[NbConvertApp] Writing 7129 bytes to test_the_model.py\n"
     ]
    }
   ],
   "source": [
    "# here we convert the jupiter file to a python script since it is easier to handle \n",
    "!jupyter nbconvert --to script --output test_the_model test_the_model.ipynb"
   ]
  },
  {
   "cell_type": "markdown",
   "id": "b68829be",
   "metadata": {},
   "source": [
    "Let's get the libs we need"
   ]
  },
  {
   "cell_type": "code",
   "execution_count": 2,
   "id": "6704dcb3",
   "metadata": {},
   "outputs": [
    {
     "name": "stdout",
     "output_type": "stream",
     "text": [
      "[NbConvertApp] Converting notebook supporting_classes.ipynb to script\n",
      "[NbConvertApp] Writing 6532 bytes to supporting_classes.py\n"
     ]
    }
   ],
   "source": [
    "import pandas as pd\n",
    "import os\n",
    "import joblib\n",
    "\n",
    "from stable_baselines3 import PPO\n",
    "from supporting_classes import TradingEnv, OHLCScaler"
   ]
  },
  {
   "cell_type": "markdown",
   "id": "4f093ce6",
   "metadata": {},
   "source": [
    "We also need the data to play with"
   ]
  },
  {
   "cell_type": "code",
   "execution_count": 3,
   "id": "48b8300c",
   "metadata": {},
   "outputs": [],
   "source": [
    "# at first, get a bit of data to play with\n",
    "# Load raw data\n",
    "data = pd.read_csv('../data/Candlestick_01nov1999_28oct2025.csv', parse_dates=['date'], index_col='date')\n",
    "\n",
    "# Split into train/test again, now we only need the test data\n",
    "split_idx  = int(len(data) * 0.8)\n",
    "test_data  = data.iloc[split_idx:]"
   ]
  },
  {
   "cell_type": "markdown",
   "id": "989dd964",
   "metadata": {},
   "source": [
    "Now create some Global Varibles"
   ]
  },
  {
   "cell_type": "code",
   "execution_count": 4,
   "id": "b649d99c",
   "metadata": {},
   "outputs": [
    {
     "name": "stdout",
     "output_type": "stream",
     "text": [
      "Loading model from ../models/ppo_trading_2020_08_13.zip\n"
     ]
    }
   ],
   "source": [
    "WINDOW_SIZE = 50\n",
    "\n",
    "# create the moste probable model name (model was stored with the last date of the training data)\n",
    "filePath = f\"../models/ppo_trading_{data.iloc[:split_idx].index[split_idx - 1].strftime('%Y_%m_%d')}.zip\"\n",
    "\n",
    "# check if the model exists\n",
    "if os.path.exists(filePath):\n",
    "    model = PPO.load(filePath)              # load the trained model\n",
    "    print(f\"Loading model from {filePath}\") # state what we you did\n",
    "else:       \n",
    "    print(f\"ERROR: Path {filePath} doesn't exist\")\n",
    "    print(\"ERROR:    \")\n",
    "    print(\"ERROR:    Will terminate this execution!\")\n",
    "    exit()\n",
    "\n",
    "# load the scaler for (re-)normalizing the data\n",
    "scaler = joblib.load(\"../models/scaler.pkl\")\n",
    "\n",
    "# get some \"gloabl\" variables ready for later analysis and visualisation\n",
    "BET            = 1000.0  # amount to invest per trade\n",
    "todays_date    = test_data.index[0]\n",
    "todays_predict = 0 # (0 = HOLD, 1 = BUY, 2 = SELL)\n",
    "bank_account   = 0.0\n",
    "\n",
    "log_df = pd.DataFrame({\n",
    "    \"Date\": pd.Series(dtype=\"str\"),\n",
    "    \"Predicted_Action\": pd.Series(dtype=\"str\"),\n",
    "    \"Real_Autcome\": pd.Series(dtype=\"str\"),\n",
    "    \"Stock_Profit_Loss\": pd.Series(dtype=\"float\"),\n",
    "    \"Bank_Account\": pd.Series(dtype=\"float\")\n",
    "})\n"
   ]
  },
  {
   "cell_type": "markdown",
   "id": "d2e60639",
   "metadata": {},
   "source": [
    "### Functions\n",
    "Here I'd like to declare some functions to make things mor visible"
   ]
  },
  {
   "cell_type": "markdown",
   "id": "b32bcf81",
   "metadata": {},
   "source": [
    "This function will return the OHLC-Volume data for the given date (+ the ammount of WINDOW_SIZE previous data points)   "
   ]
  },
  {
   "cell_type": "code",
   "execution_count": 5,
   "id": "1a36187e",
   "metadata": {},
   "outputs": [],
   "source": [
    "\n",
    "# Grab into the test data and return the OHLC+Valume for the given (assuming todays) date\n",
    "# INPUT: date_str - date as string in format 'YYYY-MM-DD'\n",
    "# OUTPUT: panda series with OHLC+Valume for the given date in the form of\n",
    "#           date          Open        High        Low         Close        Volume\n",
    "#           2020-08-07    2.357494    2.386419    2.343762    2.382781    -0.739343\n",
    "# OUTPUT: next_date - the next possible date fro trading\n",
    "def get_todays_outcome(date_str, window_size=WINDOW_SIZE):\n",
    "    # If the given date is not in the index, find the next available date\n",
    "    if date_str not in data.index:\n",
    "        print(f\"Couldn't find date: {date_str}\")\n",
    "        # Find the next date in the index that is greater than the given date\n",
    "        later_dates = data.index[data.index > date_str]\n",
    "        if later_dates.empty:\n",
    "            print(\"No later date available.\")\n",
    "            return None\n",
    "        next_date = later_dates[0]\n",
    "        print(f\"Using next available date: {next_date}\")\n",
    "    else:\n",
    "        # Get the index of the given date\n",
    "        idx = data.index.get_loc(date_str)\n",
    "        # Check if there is a next date available\n",
    "        if idx + 1 >= len(data.index):\n",
    "            print(\"No next date available.\")\n",
    "            return None\n",
    "        next_date = data.index[idx + 1]\n",
    "\n",
    "    # Get the index of the actual (available) date\n",
    "    idx = data.index.get_loc(next_date)\n",
    "\n",
    "    # Check if there is enough data before the selected date\n",
    "    if idx < (window_size + 1):\n",
    "        print(f\"Not enough data before {next_date} for window_size={window_size}.\")\n",
    "        return None\n",
    "\n",
    "    print(f\"Returning data for: {next_date}\")\n",
    "    # Return the sequence and the next available date. we need one more date the window size!!\n",
    "    return data.iloc[idx - window_size - 1:idx], next_date"
   ]
  },
  {
   "cell_type": "markdown",
   "id": "e153c507",
   "metadata": {},
   "source": [
    "This function will do **ONE** step through the day"
   ]
  },
  {
   "cell_type": "code",
   "execution_count": 6,
   "id": "f299bfc1",
   "metadata": {},
   "outputs": [],
   "source": [
    "# This function does one step of action-prediction and returns the reward and new prediction\n",
    "# INPUT: todays_predict - what was predicted for today (0 = HOLD, 1 = BUY, 2 = SELL)\n",
    "# INPUT: todays_outcome - the actual OHLC+Volume data for today\n",
    "# OUTPUT: new_reward - the reward received for the action taken\n",
    "# OUTPUT: new_prediction - the new prediction for tomorrow (0 = HOLD, 1 = BUY, 2 = SELL)\n",
    "def do_one_step_and_make_prediction(todays_predict, todays_outcome, window_size):\n",
    "    \n",
    "    scaled_df = scaler.transform(todays_outcome)                    # scale the data\n",
    "\n",
    "    temp_env = TradingEnv(scaled_df, window_size=window_size)   # create a temporary environment for the given data\n",
    "    obs, _ = temp_env.reset()                                   # reset the environment to get the initial observation\n",
    "\n",
    "    new_prediction, _ = model.predict(obs)                              # use the model to predict the action based on the observation\n",
    "    obs, reward, done, _, _ = temp_env.step(todays_predict)\n",
    "    \n",
    "    return reward, new_prediction"
   ]
  },
  {
   "cell_type": "markdown",
   "id": "d1d1ce00",
   "metadata": {},
   "source": [
    "This function will calculate the money gained or lost based on the given \"reward\""
   ]
  },
  {
   "cell_type": "code",
   "execution_count": 7,
   "id": "7c9ad9c5",
   "metadata": {},
   "outputs": [],
   "source": [
    "def calculate_stock_profit_loss(reward):\n",
    "    profit = reward * BET\n",
    "    return profit"
   ]
  },
  {
   "cell_type": "markdown",
   "id": "7a5ab15b",
   "metadata": {},
   "source": [
    "This fct will visualize the given data"
   ]
  },
  {
   "cell_type": "code",
   "execution_count": 8,
   "id": "73b979df",
   "metadata": {},
   "outputs": [],
   "source": [
    "\n",
    "import matplotlib.pyplot as plt\n",
    "\n",
    "def visualize_results(log_df):\n",
    "    fig, ax1 = plt.subplots(figsize=(12, 6))\n",
    "\n",
    "    # Linke Y-Achse: Bankkonto\n",
    "    ax1.plot(log_df['date'], log_df['bank_account'], color='blue', label='Bankkonto')\n",
    "    ax1.set_xlabel('Datum')\n",
    "    ax1.set_ylabel('Bankkonto', color='blue')\n",
    "    ax1.tick_params(axis='y', labelcolor='blue')\n",
    "\n",
    "    # Rechte Y-Achse: Börsenkurs\n",
    "    ax2 = ax1.twinx()\n",
    "    ax2.plot(log_df['date'], log_df['real_outcome'], color='green', label='Börsenkurs')\n",
    "    ax2.set_ylabel('Börsenkurs', color='green')\n",
    "    ax2.tick_params(axis='y', labelcolor='green')\n",
    "\n",
    "    # Titel und Layout\n",
    "    plt.title('Bankkonto vs. Börsenkurs')\n",
    "    fig.tight_layout()\n",
    "    plt.show()\n"
   ]
  },
  {
   "cell_type": "markdown",
   "id": "17255d25",
   "metadata": {},
   "source": [
    "# The Main Test Function"
   ]
  },
  {
   "cell_type": "markdown",
   "id": "7ec113d1",
   "metadata": {},
   "source": [
    "Whenever this block is called, it'll loop one day through the model and log + visualize the outcome"
   ]
  },
  {
   "cell_type": "code",
   "execution_count": 9,
   "id": "31b6119a",
   "metadata": {},
   "outputs": [
    {
     "name": "stdout",
     "output_type": "stream",
     "text": [
      "Returning data for: 2020-08-17 00:00:00\n"
     ]
    },
    {
     "ename": "AttributeError",
     "evalue": "'TradingEnv' object has no attribute '_calculate_reward'",
     "output_type": "error",
     "traceback": [
      "\u001b[31m---------------------------------------------------------------------------\u001b[39m",
      "\u001b[31mAttributeError\u001b[39m                            Traceback (most recent call last)",
      "\u001b[36mCell\u001b[39m\u001b[36m \u001b[39m\u001b[32mIn[9]\u001b[39m\u001b[32m, line 4\u001b[39m\n\u001b[32m      1\u001b[39m \u001b[38;5;66;03m# Let's do one day. Lets get the values we found for todays date\u001b[39;00m\n\u001b[32m      2\u001b[39m todays_outcome, next_days_date = get_todays_outcome(todays_date, WINDOW_SIZE)\n\u001b[32m----> \u001b[39m\u001b[32m4\u001b[39m todays_reward, tomorrows_predict = \u001b[43mdo_one_step_and_make_prediction\u001b[49m\u001b[43m(\u001b[49m\u001b[43mtodays_predict\u001b[49m\u001b[43m,\u001b[49m\u001b[43m \u001b[49m\u001b[43mtodays_outcome\u001b[49m\u001b[43m,\u001b[49m\u001b[43m \u001b[49m\u001b[43mWINDOW_SIZE\u001b[49m\u001b[43m)\u001b[49m\n\u001b[32m      6\u001b[39m profit_loss   = calculate_stock_profit_loss(todays_reward)\n\u001b[32m      7\u001b[39m bank_account += profit_loss\n",
      "\u001b[36mCell\u001b[39m\u001b[36m \u001b[39m\u001b[32mIn[6]\u001b[39m\u001b[32m, line 14\u001b[39m, in \u001b[36mdo_one_step_and_make_prediction\u001b[39m\u001b[34m(todays_predict, todays_outcome, window_size)\u001b[39m\n\u001b[32m     11\u001b[39m obs, _ = temp_env.reset()                                   \u001b[38;5;66;03m# reset the environment to get the initial observation\u001b[39;00m\n\u001b[32m     13\u001b[39m new_prediction, _ = model.predict(obs)                              \u001b[38;5;66;03m# use the model to predict the action based on the observation\u001b[39;00m\n\u001b[32m---> \u001b[39m\u001b[32m14\u001b[39m obs, reward, done, _, _ = \u001b[43mtemp_env\u001b[49m\u001b[43m.\u001b[49m\u001b[43mstep\u001b[49m\u001b[43m(\u001b[49m\u001b[43mtodays_predict\u001b[49m\u001b[43m)\u001b[49m\n\u001b[32m     16\u001b[39m \u001b[38;5;28;01mreturn\u001b[39;00m reward, new_prediction\n",
      "\u001b[36mFile \u001b[39m\u001b[32m/workspaces/candle-stick-reinfordement-based/notebooks/supporting_classes.py:46\u001b[39m, in \u001b[36mTradingEnv.step\u001b[39m\u001b[34m(self, action)\u001b[39m\n\u001b[32m     45\u001b[39m \u001b[38;5;28;01mdef\u001b[39;00m\u001b[38;5;250m \u001b[39m\u001b[34mstep\u001b[39m(\u001b[38;5;28mself\u001b[39m, action):                             \u001b[38;5;66;03m# do one step of the training\u001b[39;00m\n\u001b[32m---> \u001b[39m\u001b[32m46\u001b[39m     reward = \u001b[38;5;28;43mself\u001b[39;49m\u001b[43m.\u001b[49m\u001b[43m_calculate_reward\u001b[49m(action)         \u001b[38;5;66;03m# calculate reward based on action taken - in the end the |profit/loss|\u001b[39;00m\n\u001b[32m     47\u001b[39m     \u001b[38;5;28mself\u001b[39m.current_step += \u001b[32m1\u001b[39m                          \u001b[38;5;66;03m# move to the next time step\u001b[39;00m\n\u001b[32m     48\u001b[39m     done = \u001b[38;5;28mself\u001b[39m.current_step >= \u001b[38;5;28mlen\u001b[39m(\u001b[38;5;28mself\u001b[39m.data) - \u001b[32m1\u001b[39m  \u001b[38;5;66;03m# episode is done if we reach the end of the data\u001b[39;00m\n",
      "\u001b[31mAttributeError\u001b[39m: 'TradingEnv' object has no attribute '_calculate_reward'"
     ]
    }
   ],
   "source": [
    "# Let's do one day. Lets get the values we found for todays date\n",
    "todays_outcome, next_days_date = get_todays_outcome(todays_date, WINDOW_SIZE)\n",
    "\n",
    "todays_reward, tomorrows_predict = do_one_step_and_make_prediction(todays_predict, todays_outcome, WINDOW_SIZE)\n",
    "\n",
    "profit_loss   = calculate_stock_profit_loss(todays_reward)\n",
    "bank_account += profit_loss\n",
    "\n",
    "# log it all\n",
    "new_row = {\n",
    "    \"Date\": todays_date,\n",
    "    \"Predicted_Action\": todays_predict,\n",
    "    \"Real_Autcome\": todays_outcome['Close'].iloc[-1],  \n",
    "    \"Stock_Profit_Loss\": profit_loss,\n",
    "    \"Bank_Account\": bank_account\n",
    "}\n",
    "\n",
    "log_df = pd.concat([log_df, pd.DataFrame([new_row])], ignore_index=True)\n",
    "\n",
    "print(log_df.tail())\n",
    "\n",
    "todays_date    = next_days_date\n",
    "todays_predict = tomorrows_predict\n"
   ]
  }
 ],
 "metadata": {
  "kernelspec": {
   "display_name": ".venv",
   "language": "python",
   "name": "python3"
  },
  "language_info": {
   "codemirror_mode": {
    "name": "ipython",
    "version": 3
   },
   "file_extension": ".py",
   "mimetype": "text/x-python",
   "name": "python",
   "nbconvert_exporter": "python",
   "pygments_lexer": "ipython3",
   "version": "3.11.14"
  }
 },
 "nbformat": 4,
 "nbformat_minor": 5
}
