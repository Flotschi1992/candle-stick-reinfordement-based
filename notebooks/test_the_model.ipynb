{
 "cells": [
  {
   "cell_type": "markdown",
   "id": "b9a7c55f",
   "metadata": {},
   "source": [
    "# Test the Model & Visualize it \n",
    "Now the model is craeted an trained. So let's use it testwise. Idea would be to \n",
    "- be able to run it - since it works on the daily candle - on a daily base\n",
    "- store the outcome of the test in a table to be able to \n",
    "- visualize it"
   ]
  },
  {
   "cell_type": "code",
   "execution_count": 1,
   "id": "ae60f50f",
   "metadata": {},
   "outputs": [
    {
     "name": "stdout",
     "output_type": "stream",
     "text": [
      "[NbConvertApp] Converting notebook test_the_model.ipynb to script\n",
      "[NbConvertApp] Writing 8032 bytes to test_the_model.py\n"
     ]
    }
   ],
   "source": [
    "# here we convert the jupiter file to a python script since it is easier to handle \n",
    "!jupyter nbconvert --to script --output test_the_model test_the_model.ipynb"
   ]
  },
  {
   "cell_type": "markdown",
   "id": "b68829be",
   "metadata": {},
   "source": [
    "Let's get the libs we need"
   ]
  },
  {
   "cell_type": "code",
   "execution_count": 2,
   "id": "6704dcb3",
   "metadata": {},
   "outputs": [
    {
     "name": "stdout",
     "output_type": "stream",
     "text": [
      "[NbConvertApp] Converting notebook supporting_classes.ipynb to script\n",
      "[NbConvertApp] Writing 6723 bytes to supporting_classes.py\n"
     ]
    }
   ],
   "source": [
    "import pandas as pd\n",
    "import numpy as np\n",
    "import os\n",
    "import joblib\n",
    "\n",
    "from stable_baselines3 import PPO\n",
    "from supporting_classes import TradingEnv, OHLCScaler"
   ]
  },
  {
   "cell_type": "markdown",
   "id": "4f093ce6",
   "metadata": {},
   "source": [
    "We also need the data to play with"
   ]
  },
  {
   "cell_type": "code",
   "execution_count": 3,
   "id": "48b8300c",
   "metadata": {},
   "outputs": [],
   "source": [
    "# at first, get a bit of data to play with\n",
    "# Load raw data\n",
    "data = pd.read_csv('../data/Candlestick_01nov1999_28oct2025.csv', parse_dates=['date'], index_col='date')\n",
    "\n",
    "# Split into train/test again, now we only need the test data\n",
    "split_idx  = int(len(data) * 0.8)\n",
    "test_data  = data.iloc[split_idx:]"
   ]
  },
  {
   "cell_type": "markdown",
   "id": "989dd964",
   "metadata": {},
   "source": [
    "Now create some Global Varibles"
   ]
  },
  {
   "cell_type": "code",
   "execution_count": 4,
   "id": "b649d99c",
   "metadata": {},
   "outputs": [
    {
     "name": "stdout",
     "output_type": "stream",
     "text": [
      "Loading model from ../models/ppo_trading_2020_08_13.zip\n"
     ]
    }
   ],
   "source": [
    "WINDOW_SIZE = 50\n",
    "BET_AMMOUNT = 1000.0  # amount to invest per trade\n",
    "\n",
    "# create the moste probable model name (model was stored with the last date of the training data)\n",
    "filePath = f\"../models/ppo_trading_{data.iloc[:split_idx].index[split_idx - 1].strftime('%Y_%m_%d')}.zip\"\n",
    "\n",
    "# check if the model exists\n",
    "if os.path.exists(filePath):\n",
    "    model = PPO.load(filePath)              # load the trained model\n",
    "    print(f\"Loading model from {filePath}\") # state what we you did\n",
    "else:       \n",
    "    print(f\"ERROR: Path {filePath} doesn't exist\")\n",
    "    print(\"ERROR:    \")\n",
    "    print(\"ERROR:    Will terminate this execution!\")\n",
    "    exit()\n",
    "\n",
    "# load the scaler for (re-)normalizing the data\n",
    "scaler = joblib.load(\"../models/scaler.pkl\")\n",
    "\n",
    "# get some \"gloabl\" variables ready for later analysis and visualisation\n",
    "\n",
    "todays_date    = test_data.index[0]\n",
    "todays_predict = np.array([0])  #(0 = HOLD, 1 = BUY, 2 = SELL)\n",
    "bank_account   = 0.0\n",
    "\n",
    "log_df = pd.DataFrame({\n",
    "    \"Date\": pd.Series(dtype=\"str\"),\n",
    "    \"Predicted_Action\": pd.Series(dtype=\"str\"),\n",
    "    \"Closing_Price\":pd.Series(dtype=\"float\"),\n",
    "    \"Real_OutcomePerc\": pd.Series(dtype=\"str\"),\n",
    "    \"Stock_Profit_Loss\": pd.Series(dtype=\"float\"),\n",
    "    \"Bank_Account\": pd.Series(dtype=\"float\")\n",
    "})\n"
   ]
  },
  {
   "cell_type": "markdown",
   "id": "d2e60639",
   "metadata": {},
   "source": [
    "### Functions\n",
    "Here I'd like to declare some functions to make things mor visible"
   ]
  },
  {
   "cell_type": "markdown",
   "id": "b32bcf81",
   "metadata": {},
   "source": [
    "This function will return the OHLC-Volume data for the given date (+ the ammount of WINDOW_SIZE previous data points)   "
   ]
  },
  {
   "cell_type": "code",
   "execution_count": 5,
   "id": "1a36187e",
   "metadata": {},
   "outputs": [],
   "source": [
    "\n",
    "# Grab into the test data and return the OHLC+Valume for the given (assuming todays) date\n",
    "# INPUT: date_str - date as string in format 'YYYY-MM-DD'\n",
    "# OUTPUT: panda series with OHLC+Valume for the given date in the form of\n",
    "#           date          Open        High        Low         Close        Volume\n",
    "#           2020-08-07    2.357494    2.386419    2.343762    2.382781    -0.739343\n",
    "# OUTPUT: next_date - the next possible date fro trading\n",
    "def get_todays_outcome(date_str, window_size=WINDOW_SIZE):\n",
    "    # If the given date is not in the index, find the next available date\n",
    "    if date_str not in data.index:\n",
    "        print(f\"Couldn't find date: {date_str}\")\n",
    "        # Find the next date in the index that is greater than the given date\n",
    "        later_dates = data.index[data.index > date_str]\n",
    "        if later_dates.empty:\n",
    "            print(\"No later date available.\")\n",
    "            return None\n",
    "        next_date = later_dates[0]\n",
    "        print(f\"Using next available date: {next_date}\")\n",
    "    else:\n",
    "        # Get the index of the given date\n",
    "        idx = data.index.get_loc(date_str)\n",
    "        # Check if there is a next date available\n",
    "        if idx + 1 >= len(data.index):\n",
    "            print(\"No next date available.\")\n",
    "            return None\n",
    "        next_date = data.index[idx + 1]\n",
    "\n",
    "    # Get the index of the actual (available) date\n",
    "    idx = data.index.get_loc(next_date)\n",
    "\n",
    "    # Check if there is enough data before the selected date\n",
    "    if idx < (window_size + 1):\n",
    "        print(f\"Not enough data before {next_date} for window_size={window_size}.\")\n",
    "        return None\n",
    "\n",
    "    print(f\"Returning data for: {next_date}\")\n",
    "    # Return the sequence and the next available date. we need one more date the window size!!\n",
    "    return data.iloc[idx - window_size - 1:idx], next_date"
   ]
  },
  {
   "cell_type": "markdown",
   "id": "e153c507",
   "metadata": {},
   "source": [
    "This function will do **ONE** step through the day"
   ]
  },
  {
   "cell_type": "code",
   "execution_count": 6,
   "id": "f299bfc1",
   "metadata": {},
   "outputs": [],
   "source": [
    "# This function does one step of action-prediction and returns the reward and new prediction\n",
    "# INPUT: todays_predict - what was predicted for today (0 = HOLD, 1 = BUY, 2 = SELL)\n",
    "# INPUT: todays_outcome - the actual OHLC+Volume data for today\n",
    "# OUTPUT: new_reward - the reward received for the action taken\n",
    "# OUTPUT: new_prediction - the new prediction for tomorrow (0 = HOLD, 1 = BUY, 2 = SELL)\n",
    "def do_one_step_and_make_prediction(todays_predict, todays_outcome, window_size):\n",
    "    \n",
    "    scaled_df = scaler.transform(todays_outcome)                    # scale the data\n",
    "\n",
    "    temp_env = TradingEnv(scaled_df, window_size=window_size)   # create a temporary environment for the given data\n",
    "    obs, _ = temp_env.reset()                                   # reset the environment to get the initial observation\n",
    "\n",
    "    new_prediction, _ = model.predict(obs)                              # use the model to predict the action based on the observation\n",
    "    obs, reward, done, _, _ = temp_env.step(todays_predict)\n",
    "    \n",
    "    return reward, new_prediction"
   ]
  },
  {
   "cell_type": "markdown",
   "id": "d1d1ce00",
   "metadata": {},
   "source": [
    "This function will calculate the money gained or lost based on the given \"reward\""
   ]
  },
  {
   "cell_type": "code",
   "execution_count": 7,
   "id": "7c9ad9c5",
   "metadata": {},
   "outputs": [],
   "source": [
    "# this fct will return the profit or loss of a day depending which bet were set and the ammount\n",
    "# INPUT: predict - 0 = HOLD, 1 = BUY, 2 = SELL\n",
    "def calculate_stock_profit_loss(predict, date):\n",
    "    row = data.loc[date]      # search for the correct row by date\n",
    "    \n",
    "    open_price = row['Open']\n",
    "    close_price = row['Close']\n",
    "    change_percent = ((close_price - open_price) / open_price) * 100\n",
    "\n",
    "    \n",
    "    if predict   == 1: # 'call'\n",
    "        gain = BET_AMMOUNT * (change_percent / 100)\n",
    "    elif predict == 2: #'put'\n",
    "        gain = BET_AMMOUNT * (-change_percent / 100)\n",
    "    elif predict == 0: #'hold'\n",
    "        gain = 0\n",
    "    else:\n",
    "        raise ValueError(\"Ungültige Position: muss 'call', 'put' oder 'hold' sein.\")\n",
    "        gain = 0\n",
    "    \n",
    "    return gain, change_percent"
   ]
  },
  {
   "cell_type": "markdown",
   "id": "7a5ab15b",
   "metadata": {},
   "source": [
    "This fct will visualize the given data"
   ]
  },
  {
   "cell_type": "code",
   "execution_count": 8,
   "id": "73b979df",
   "metadata": {},
   "outputs": [],
   "source": [
    "\n",
    "import matplotlib.pyplot as plt\n",
    "\n",
    "def visualize_results(log_df):\n",
    "    fig, ax1 = plt.subplots(figsize=(12, 6))\n",
    "\n",
    "    # Linke Y-Achse: Bankkonto\n",
    "    ax1.plot(log_df['date'], log_df['bank_account'], color='blue', label='Bankkonto')\n",
    "    ax1.set_xlabel('Datum')\n",
    "    ax1.set_ylabel('Bankkonto', color='blue')\n",
    "    ax1.tick_params(axis='y', labelcolor='blue')\n",
    "\n",
    "    # Rechte Y-Achse: Börsenkurs\n",
    "    ax2 = ax1.twinx()\n",
    "    ax2.plot(log_df['date'], log_df['real_outcome'], color='green', label='Börsenkurs')\n",
    "    ax2.set_ylabel('Börsenkurs', color='green')\n",
    "    ax2.tick_params(axis='y', labelcolor='green')\n",
    "\n",
    "    # Titel und Layout\n",
    "    plt.title('Bankkonto vs. Börsenkurs')\n",
    "    fig.tight_layout()\n",
    "    plt.show()\n"
   ]
  },
  {
   "cell_type": "markdown",
   "id": "17255d25",
   "metadata": {},
   "source": [
    "# The Main Test Function"
   ]
  },
  {
   "cell_type": "markdown",
   "id": "7ec113d1",
   "metadata": {},
   "source": [
    "Whenever this block is called, it'll loop one day through the model and log + visualize the outcome"
   ]
  },
  {
   "cell_type": "code",
   "execution_count": 9,
   "id": "31b6119a",
   "metadata": {},
   "outputs": [
    {
     "name": "stdout",
     "output_type": "stream",
     "text": [
      "Returning data for: 2020-08-17 00:00:00\n",
      "      Date Predicted_Action  Closing_Price  Real_OutcomePerc  Stock_Profit_Loss  Bank_Account\n",
      "2020-08-14             HOLD          279.8              0.56                0.0           0.0\n"
     ]
    },
    {
     "name": "stderr",
     "output_type": "stream",
     "text": [
      "/tmp/ipykernel_168392/531882650.py:20: FutureWarning: The behavior of DataFrame concatenation with empty or all-NA entries is deprecated. In a future version, this will no longer exclude empty or all-NA columns when determining the result dtypes. To retain the old behavior, exclude the relevant entries before the concat operation.\n",
      "  log_df = pd.concat([log_df, pd.DataFrame([new_row])], ignore_index=True)\n"
     ]
    }
   ],
   "source": [
    "# Let's do one day. Lets get the values we found for todays date\n",
    "todays_outcome, next_days_date = get_todays_outcome(todays_date, WINDOW_SIZE)\n",
    "\n",
    "todays_reward, tomorrows_predict = do_one_step_and_make_prediction(todays_predict, todays_outcome, WINDOW_SIZE)\n",
    "\n",
    "profit_loss, perc_outcome   = calculate_stock_profit_loss(todays_predict, todays_date)\n",
    "bank_account += profit_loss\n",
    "\n",
    "# log it all\n",
    "new_row = {\n",
    "    \"Date\": todays_date,\n",
    "    \"Predicted_Action\": {0: 'HOLD', 1: 'BUY', 2: 'SELL'}[todays_predict.item()],\n",
    "    \"Closing_Price\": todays_outcome['Close'].iloc[-1],  \n",
    "    \"Real_OutcomePerc\": round(perc_outcome, 2),\n",
    "    \"Stock_Profit_Loss\": profit_loss,\n",
    "    \"Bank_Account\": bank_account\n",
    "}\n",
    "\n",
    "\n",
    "log_df = pd.concat([log_df, pd.DataFrame([new_row])], ignore_index=True)\n",
    "\n",
    "# print(log_df.tail())\n",
    "print(log_df.to_string(index=False))\n",
    "\n",
    "\n",
    "todays_date    = next_days_date\n",
    "todays_predict = tomorrows_predict\n"
   ]
  }
 ],
 "metadata": {
  "kernelspec": {
   "display_name": ".venv",
   "language": "python",
   "name": "python3"
  },
  "language_info": {
   "codemirror_mode": {
    "name": "ipython",
    "version": 3
   },
   "file_extension": ".py",
   "mimetype": "text/x-python",
   "name": "python",
   "nbconvert_exporter": "python",
   "pygments_lexer": "ipython3",
   "version": "3.11.14"
  }
 },
 "nbformat": 4,
 "nbformat_minor": 5
}
